{
 "cells": [
  {
   "cell_type": "code",
   "execution_count": 1,
   "metadata": {
    "collapsed": true
   },
   "outputs": [],
   "source": [
    "import pandas as pd\n",
    "import urllib2\n",
    "from bs4 import BeautifulSoup"
   ]
  },
  {
   "cell_type": "code",
   "execution_count": 17,
   "metadata": {
    "collapsed": true
   },
   "outputs": [],
   "source": [
    "url = 'http://www.ndtv.com/topic/elections-2017/'"
   ]
  },
  {
   "cell_type": "code",
   "execution_count": 18,
   "metadata": {
    "collapsed": true
   },
   "outputs": [],
   "source": [
    "page = urllib2.urlopen(url)\n",
    "soup = BeautifulSoup(page.read(),'html.parser')"
   ]
  },
  {
   "cell_type": "code",
   "execution_count": 19,
   "metadata": {
    "collapsed": true
   },
   "outputs": [],
   "source": [
    "headline  = soup.findAll('p',{'class'  : 'header fbld'})\n",
    "dates = soup.findAll('p',{'class':'list_dateline'})"
   ]
  },
  {
   "cell_type": "code",
   "execution_count": 21,
   "metadata": {
    "collapsed": false
   },
   "outputs": [
    {
     "name": "stdout",
     "output_type": "stream",
     "text": [
      "Congress' Sholay Poster Predictably Has Rahul Gandhi As Jai\n",
      "Goa Elections 2017: Now Punish Manohar Parrikar, Arvind Kejriwal Dares Election Commission\n",
      "Uttar Pradesh Elections 2017: Akhilesh Yadav To NDTV On Why Congress Alliance Was Necessary\n",
      "Punjab Elections 2017: For Voters, IOUs Promise Free Whiskey, Rum. Drugs As Bait Too\n",
      "UP Elections 2017: After Brief Hiatus, Mulayam Singh Returns To Attacking Akhilesh Yadav\n",
      "Assembly Elections 2017: More Cash For Candidates? Election Commission Irked By RBI's Response\n",
      "Uttarakhand Elections 2017: Ministry For Veterans, Free Smartphones - What Harish Rawat Promised Voters\n",
      "UP Elections 2017: Alliance With Akhilesh Yadav For 2019 Too? Possible, Says Rahul Gandhi\n",
      "Uttar Pradesh Elections 2017: Choosing The 'Lesser Evil', Says Azam Khan On Alliance With Congress\n",
      "French Socialists Choose Between Manual Valls, Benoit Hamon In Presidential Primary\n",
      "Goa Elections 2017: BJP Releases Manifesto, Focus On Jobs, Tourism\n",
      "Uttar Pradesh Elections 2017: The Hint Of Hindutva In BJP's Plan For Development And Change\n",
      "Goa Elections 2017: Election Panel Orders Police Case Into Arvind Kejriwal's 'Bribe' Remarks\n",
      "Punjab Elections 2017: AAP Outsider In Punjab, Can't Leave Border State To Them: PM Modi\n",
      "Uttar Pradesh Elections 2017: Rahul Gandhi And I Like Two Wheels Of A Cycle, Says Akhilesh Yadav\n"
     ]
    }
   ],
   "source": [
    "for sp in headline:\n",
    "    for link in sp.findAll('a'):\n",
    "        print link.text\n"
   ]
  },
  {
   "cell_type": "code",
   "execution_count": 22,
   "metadata": {
    "collapsed": false
   },
   "outputs": [
    {
     "name": "stdout",
     "output_type": "stream",
     "text": [
      "India News | Reported by Kamal Khan, Written by Suparna Singh | Monday January 30, 2017                    \n",
      "India News | NDTV NEWS DESK | Monday January 30, 2017                    \n",
      "India News | Edited by Veer Arjun Singh | Monday January 30, 2017                    \n",
      "India News | Written by Sunetra Choudhury | Monday January 30, 2017                    \n",
      "India News | Edited By Arshia Dhar  | Monday January 30, 2017                    \n",
      "India News | Edited by Veer Arjun Singh | Monday January 30, 2017                    \n",
      "India News | Written by Nikhil Pandhi | Monday January 30, 2017                    \n",
      "India News | Reported by Alok Pandey, Edited by Arun Nair | Monday January 30, 2017                    \n",
      "India News | Edited by Indroneil B Biswas | Sunday January 29, 2017                    \n",
      "World News | Associated Press | Sunday January 29, 2017                    \n",
      "India News | Edited by Nonika Marwaha | Sunday January 29, 2017                    \n",
      "India News | Written by Rahul Shrivastava | Sunday January 29, 2017                    \n",
      "India News | Edited By Parmeshwar Bawa | Sunday January 29, 2017                    \n",
      "India News | Reported by Anand Kumar Patel, Edited by Anindita Sanyal | Sunday January 29, 2017                    \n",
      "India News | Reported by Alok Pandey, Edited by Veer Arjun Singh | Sunday January 29, 2017                    \n"
     ]
    }
   ],
   "source": [
    "for date in dates:\n",
    "    print date.text\n",
    "     "
   ]
  },
  {
   "cell_type": "code",
   "execution_count": null,
   "metadata": {
    "collapsed": true
   },
   "outputs": [],
   "source": []
  }
 ],
 "metadata": {
  "anaconda-cloud": {},
  "kernelspec": {
   "display_name": "Python [default]",
   "language": "python",
   "name": "python2"
  },
  "language_info": {
   "codemirror_mode": {
    "name": "ipython",
    "version": 2
   },
   "file_extension": ".py",
   "mimetype": "text/x-python",
   "name": "python",
   "nbconvert_exporter": "python",
   "pygments_lexer": "ipython2",
   "version": "2.7.12"
  }
 },
 "nbformat": 4,
 "nbformat_minor": 1
}
