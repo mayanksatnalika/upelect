{
 "cells": [
  {
   "cell_type": "code",
   "execution_count": 1,
   "metadata": {
    "collapsed": false
   },
   "outputs": [
    {
     "name": "stdout",
     "output_type": "stream",
     "text": [
      "{\"data\":[{\"text\":\"I love Titanic.\",\"polarity\":4,\"meta\":{\"language\":\"en\"}},{\"text\":\"I hate Titanic.\",\"polarity\":0,\"meta\":{\"language\":\"en\"}}]}\n",
      "\n"
     ]
    }
   ],
   "source": [
    "import urllib2\n",
    "import json\n",
    " \n",
    "s = '{\"data\": [{\"text\": \"I love Titanic.\"},{\"text\": \"I hate Titanic.\"}]}' # 2 short text that we want to do sentiment analysis\n",
    " \n",
    "response = urllib2.urlopen('http://www.sentiment140.com/api/bulkClassifyJson', s) # request to server\n",
    "page = response.read() # get the response\n",
    "print page # print the result\n",
    "res= json.loads(page)"
   ]
  },
  {
   "cell_type": "code",
   "execution_count": 34,
   "metadata": {
    "collapsed": false
   },
   "outputs": [
    {
     "data": {
      "text/plain": [
       "4"
      ]
     },
     "execution_count": 34,
     "metadata": {},
     "output_type": "execute_result"
    }
   ],
   "source": [
    "res['data'][0]['polarity']"
   ]
  }
 ],
 "metadata": {
  "anaconda-cloud": {},
  "kernelspec": {
   "display_name": "Python [default]",
   "language": "python",
   "name": "python2"
  },
  "language_info": {
   "codemirror_mode": {
    "name": "ipython",
    "version": 2
   },
   "file_extension": ".py",
   "mimetype": "text/x-python",
   "name": "python",
   "nbconvert_exporter": "python",
   "pygments_lexer": "ipython2",
   "version": "2.7.12"
  }
 },
 "nbformat": 4,
 "nbformat_minor": 1
}
