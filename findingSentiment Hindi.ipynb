{
 "cells": [
  {
   "cell_type": "code",
   "execution_count": 1,
   "metadata": {
    "collapsed": true
   },
   "outputs": [],
   "source": [
    "import tweepy\n",
    "from pymongo import MongoClient\n",
    "import json\n",
    "import requests\n",
    "import unicodedata\n",
    "import pandas as pd\n",
    "\n",
    "consumer_key = \"POA1eXAkYisz3kBRdcmjeBcha\"\n",
    "consumer_secret = \"Ol97n9dfJcSiHvxUmPfRoR7QcLBMzuM5MdOrG36dBuNyT2EzNw\"\n",
    "access_token = \"354671169-ROmqMvVamNyggX9hqNzlpqhTgc6AkCOpT6bsjodA\"\n",
    "access_secret = \"RqlakpclhdjQzijYhaSfqqK0Yhzv3AZe6RdQggdms8sYn\"\n",
    " \n",
    "auth = tweepy.OAuthHandler(consumer_key, consumer_secret)\n",
    "auth.secure = True\n",
    "auth.set_access_token(access_token, access_secret)\n",
    " \n",
    "api = tweepy.API(auth)     "
   ]
  },
  {
   "cell_type": "code",
   "execution_count": null,
   "metadata": {
    "collapsed": false,
    "scrolled": false
   },
   "outputs": [
    {
     "name": "stdout",
     "output_type": "stream",
     "text": [
      "func called\n",
      "inserted\n",
      "inserted\n",
      "inserted\n",
      "inserted\n",
      "inserted\n",
      "inserted\n",
      "inserted\n",
      "inserted\n",
      "inserted\n",
      "inserted\n",
      "inserted\n",
      "inserted\n",
      "inserted\n",
      "inserted\n",
      "inserted\n",
      "inserted\n",
      "inserted\n",
      "inserted\n",
      "inserted\n",
      "inserted\n",
      "inserted\n",
      "inserted\n",
      "inserted\n",
      "inserted\n",
      "inserted\n",
      "inserted\n",
      "inserted\n",
      "inserted\n",
      "inserted\n",
      "inserted\n",
      "inserted\n",
      "inserted\n",
      "inserted\n",
      "inserted\n",
      "inserted\n",
      "inserted\n",
      "inserted\n",
      "inserted\n",
      "inserted\n",
      "inserted\n",
      "inserted\n",
      "inserted\n",
      "inserted\n",
      "inserted\n",
      "inserted\n",
      "inserted\n",
      "inserted\n",
      "inserted\n",
      "inserted\n",
      "inserted\n",
      "inserted\n",
      "inserted\n",
      "inserted\n",
      "inserted\n",
      "inserted\n",
      "inserted\n",
      "inserted\n",
      "inserted\n",
      "inserted\n",
      "inserted\n",
      "inserted\n",
      "inserted\n"
     ]
    }
   ],
   "source": [
    "class MyStreamListener(tweepy.StreamListener):\n",
    "\n",
    "    print('func called')\n",
    "    \n",
    "    \n",
    "    \n",
    "    def on_data(self, data):\n",
    "        # Decode JSON\n",
    "        datajson = json.loads(data)\n",
    "        \n",
    "        client = MongoClient('localhost', 27017)\n",
    "        db = client.newtweetsDB\n",
    "        \n",
    "        #datajson = json.loads(data)\n",
    "        db.upradesh.insert_one(datajson)\n",
    "        \n",
    "        #print datajson['text']\n",
    "        \n",
    "        print(\"inserted\")\n",
    "        \n",
    "    def on_error(self, status):\n",
    "        \n",
    "        print status\n",
    "        \n",
    "     \n",
    "\n",
    "    \n",
    "myStreamListener = MyStreamListener()\n",
    "\n",
    "myStream = tweepy.Stream(auth = api.auth, listener=myStreamListener)\n",
    "\n",
    "myStream.filter(track = \n",
    "                ['#uttarpradesh','#UttarPradesh','#UttarPradeshelection',\n",
    "                 'uttar pradesh election','@BJP4UP','@Samajwadi_Party',\n",
    "                    '@OfficeOfRG', '@AmitShah','@yadavakhilesh','@BSP4India','#bsp']\n",
    "               )\n",
    "#myStream.filter(track = [\"bdjsdhji9\"])\n",
    "tweepy.search('uttarpradesh')\n",
    "search_results = api.search(q=\"uttarpradesh\", count=1000)\n",
    "a = [i.text for i in search_results]"
   ]
  },
  {
   "cell_type": "code",
   "execution_count": 92,
   "metadata": {
    "collapsed": false
   },
   "outputs": [],
   "source": [
    "f = open(\"hindi wn.txt\")\n",
    "a = (f.read())"
   ]
  },
  {
   "cell_type": "code",
   "execution_count": 93,
   "metadata": {
    "collapsed": false,
    "scrolled": false
   },
   "outputs": [
    {
     "data": {
      "text/plain": [
       "297753"
      ]
     },
     "execution_count": 93,
     "metadata": {},
     "output_type": "execute_result"
    }
   ],
   "source": [
    "len(a)"
   ]
  },
  {
   "cell_type": "code",
   "execution_count": 124,
   "metadata": {
    "collapsed": false
   },
   "outputs": [],
   "source": [
    "lines = [x.split() for x in a.split('\\n')]"
   ]
  },
  {
   "cell_type": "code",
   "execution_count": 133,
   "metadata": {
    "collapsed": false
   },
   "outputs": [],
   "source": [
    "pos = [row[2] for row in lines[:3000]]\n",
    "neg = [row[3] for row in lines[:3000]]\n",
    "wrd = [row[4] for row in lines[:3000]]"
   ]
  },
  {
   "cell_type": "code",
   "execution_count": 136,
   "metadata": {
    "collapsed": false
   },
   "outputs": [
    {
     "name": "stdout",
     "output_type": "stream",
     "text": [
      "['0.0', '0.0', '0.0']\n",
      "['0.0', '0.0', '0.75']\n"
     ]
    }
   ],
   "source": [
    "wrd = wrd[:3]\n",
    "pos = pos[:3]\n",
    "neg = neg[:3]\n",
    "df = pd.DataFrame()\n",
    "df['word'] = wrd\n",
    "df['pos'] = pos\n",
    "df['neg'] = neg\n",
    "print pos\n",
    "print neg"
   ]
  },
  {
   "cell_type": "code",
   "execution_count": 127,
   "metadata": {
    "collapsed": false
   },
   "outputs": [],
   "source": [
    "df['neg'] = pd.to_numeric(df['neg'])\n",
    "df['pos'] = pd.to_numeric(df['pos'])"
   ]
  },
  {
   "cell_type": "code",
   "execution_count": 128,
   "metadata": {
    "collapsed": false
   },
   "outputs": [
    {
     "name": "stdout",
     "output_type": "stream",
     "text": [
      "['abcd', '\\xe0\\xa4\\x85\\xe0\\xa4\\xa8\\xe0\\xa5\\x8c\\xe0\\xa4\\xaa\\xe0\\xa4\\x9a\\xe0\\xa4\\xbe\\xe0\\xa4\\xb0\\xe0\\xa4\\xbf\\xe0\\xa4\\x95', '\\xe0\\xa4\\xae\\xe0\\xa5\\x83\\xe0\\xa4\\xa4']\n"
     ]
    }
   ],
   "source": [
    "wordFeatures = wrd\n",
    "print wrd"
   ]
  },
  {
   "cell_type": "code",
   "execution_count": 129,
   "metadata": {
    "collapsed": false
   },
   "outputs": [],
   "source": [
    "def findFeature(document):\n",
    "    \n",
    "    print 'words is ',document\n",
    "    features=  {}\n",
    "    for w in wordFeatures:\n",
    "        print 'checking for w = ', w\n",
    "        features[w] = (w in document)\n",
    "    return features"
   ]
  },
  {
   "cell_type": "code",
   "execution_count": 145,
   "metadata": {
    "collapsed": false
   },
   "outputs": [
    {
     "name": "stdout",
     "output_type": "stream",
     "text": [
      "words is  abcd\n",
      "checking for w =  abcd\n",
      "checking for w =  अनौपचारिक\n",
      "checking for w =  मृत\n",
      "words is  अनौपचारिक\n",
      "checking for w =  abcd\n",
      "checking for w =  अनौपचारिक\n",
      "checking for w =  मृत\n",
      "words is  मृत\n",
      "checking for w =  abcd\n",
      "checking for w =  अनौपचारिक\n",
      "checking for w =  मृत\n"
     ]
    }
   ],
   "source": [
    "featuresets =  [(findFeature(rev),posi) for rev, posi in zip(wrd,pos)]"
   ]
  },
  {
   "cell_type": "code",
   "execution_count": 146,
   "metadata": {
    "collapsed": false,
    "scrolled": false
   },
   "outputs": [
    {
     "data": {
      "text/plain": [
       "[({'abcd': True,\n",
       "   '\\xe0\\xa4\\x85\\xe0\\xa4\\xa8\\xe0\\xa5\\x8c\\xe0\\xa4\\xaa\\xe0\\xa4\\x9a\\xe0\\xa4\\xbe\\xe0\\xa4\\xb0\\xe0\\xa4\\xbf\\xe0\\xa4\\x95': False,\n",
       "   '\\xe0\\xa4\\xae\\xe0\\xa5\\x83\\xe0\\xa4\\xa4': False},\n",
       "  '0.0'),\n",
       " ({'abcd': False,\n",
       "   '\\xe0\\xa4\\x85\\xe0\\xa4\\xa8\\xe0\\xa5\\x8c\\xe0\\xa4\\xaa\\xe0\\xa4\\x9a\\xe0\\xa4\\xbe\\xe0\\xa4\\xb0\\xe0\\xa4\\xbf\\xe0\\xa4\\x95': True,\n",
       "   '\\xe0\\xa4\\xae\\xe0\\xa5\\x83\\xe0\\xa4\\xa4': False},\n",
       "  '0.0'),\n",
       " ({'abcd': False,\n",
       "   '\\xe0\\xa4\\x85\\xe0\\xa4\\xa8\\xe0\\xa5\\x8c\\xe0\\xa4\\xaa\\xe0\\xa4\\x9a\\xe0\\xa4\\xbe\\xe0\\xa4\\xb0\\xe0\\xa4\\xbf\\xe0\\xa4\\x95': False,\n",
       "   '\\xe0\\xa4\\xae\\xe0\\xa5\\x83\\xe0\\xa4\\xa4': True},\n",
       "  '0.0')]"
      ]
     },
     "execution_count": 146,
     "metadata": {},
     "output_type": "execute_result"
    }
   ],
   "source": [
    "featuresets"
   ]
  },
  {
   "cell_type": "code",
   "execution_count": 151,
   "metadata": {
    "collapsed": false
   },
   "outputs": [],
   "source": [
    "import nltk\n",
    "classifier = nltk.NaiveBayesClassifier.train(featuresets)"
   ]
  },
  {
   "cell_type": "code",
   "execution_count": 156,
   "metadata": {
    "collapsed": false
   },
   "outputs": [
    {
     "name": "stdout",
     "output_type": "stream",
     "text": [
      "words is  my abcd\n",
      "checking for w =  abcd\n",
      "checking for w =  अनौपचारिक\n",
      "checking for w =  मृत\n",
      "0.0\n"
     ]
    }
   ],
   "source": [
    "text = 'my abcd'\n",
    "feat = findFeature(text)\n",
    "featurized_doc = {c:True for c in text.split()}\n",
    "tagged_label = classifier.classify(featurized_doc)\n",
    "print(tagged_label)"
   ]
  },
  {
   "cell_type": "code",
   "execution_count": 159,
   "metadata": {
    "collapsed": true
   },
   "outputs": [],
   "source": [
    "ww = '\\xe0\\xa4\\xae\\xe0\\xa5\\x83\\xe0\\xa4\\xa4 abcd'"
   ]
  },
  {
   "cell_type": "code",
   "execution_count": 160,
   "metadata": {
    "collapsed": false
   },
   "outputs": [
    {
     "name": "stdout",
     "output_type": "stream",
     "text": [
      "words is  मृत abcd\n",
      "checking for w =  abcd\n",
      "checking for w =  अनौपचारिक\n",
      "checking for w =  मृत\n"
     ]
    },
    {
     "data": {
      "text/plain": [
       "{'abcd': True,\n",
       " '\\xe0\\xa4\\x85\\xe0\\xa4\\xa8\\xe0\\xa5\\x8c\\xe0\\xa4\\xaa\\xe0\\xa4\\x9a\\xe0\\xa4\\xbe\\xe0\\xa4\\xb0\\xe0\\xa4\\xbf\\xe0\\xa4\\x95': False,\n",
       " '\\xe0\\xa4\\xae\\xe0\\xa5\\x83\\xe0\\xa4\\xa4': True}"
      ]
     },
     "execution_count": 160,
     "metadata": {},
     "output_type": "execute_result"
    }
   ],
   "source": [
    "findFeature(ww)"
   ]
  },
  {
   "cell_type": "code",
   "execution_count": null,
   "metadata": {
    "collapsed": true
   },
   "outputs": [],
   "source": []
  }
 ],
 "metadata": {
  "anaconda-cloud": {},
  "kernelspec": {
   "display_name": "Python [conda root]",
   "language": "python",
   "name": "conda-root-py"
  },
  "language_info": {
   "codemirror_mode": {
    "name": "ipython",
    "version": 2
   },
   "file_extension": ".py",
   "mimetype": "text/x-python",
   "name": "python",
   "nbconvert_exporter": "python",
   "pygments_lexer": "ipython2",
   "version": "2.7.12"
  }
 },
 "nbformat": 4,
 "nbformat_minor": 1
}
